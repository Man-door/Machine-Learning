{
 "cells": [
  {
   "cell_type": "markdown",
   "metadata": {},
   "source": [
    "# Mandoor Machine Learning Model"
   ]
  },
  {
   "cell_type": "markdown",
   "metadata": {},
   "source": [
    "## Importing Libraries\n",
    "- `pandas`, `numpy`: For data manipulation and numerical operations.\n",
    "- `pad_sequences`: To pad input sequences to a uniform length.\n",
    "- `Model`, `layers`: For building and defining the neural network model in Keras.\n",
    "- `Adam`: The Adam optimizer for model training.\n",
    "- `train_test_split`: For splitting the data into training and test sets.\n",
    "- `matplotlib.pyplot`: For data visualization and plotting."
   ]
  },
  {
   "cell_type": "code",
   "execution_count": 1,
   "metadata": {},
   "outputs": [],
   "source": [
    "import pandas as pd\n",
    "import numpy as np\n",
    "from tensorflow.keras.preprocessing.sequence import pad_sequences\n",
    "from tensorflow.keras.models import Model\n",
    "from tensorflow.keras.layers import Input, Embedding, Flatten, Concatenate, Dense\n",
    "from tensorflow.keras.optimizers import Adam\n",
    "from sklearn.model_selection import train_test_split\n",
    "import matplotlib.pyplot as plt\n",
    "\n",
    "from tensorflow.keras import layers, models"
   ]
  },
  {
   "cell_type": "markdown",
   "metadata": {},
   "source": [
    "## Function to Create Encoding Dictionaries\n",
    "\n",
    "This function generates an encoding dictionary and an encoded sequence for a given list of user inputs."
   ]
  },
  {
   "cell_type": "code",
   "execution_count": 2,
   "metadata": {},
   "outputs": [],
   "source": [
    "# Function to create encoding dictionaries dynamically for services and locations\n",
    "def create_encoding_dict(user_input):\n",
    "    encoding_dict = {item: idx for idx, item in enumerate(user_input)}\n",
    "    encoded_sequence = [encoding_dict[item] for item in user_input]\n",
    "    return encoding_dict, encoded_sequence\n",
    "\n",
    "# Function to normalize input between 0 and 1 (input 1-5 to normalized 0-1)\n",
    "def normalize_input(user_input, min_value=1, max_value=5):\n",
    "    return (user_input - min_value) / (max_value - min_value)\n"
   ]
  },
  {
   "cell_type": "markdown",
   "metadata": {},
   "source": [
    "## Loading and Encoding Dataset\n",
    "\n",
    "This section of the code performs the following operations:\n",
    "- Loads a dataset from a CSV file.\n",
    "- Extracts unique services and locations.\n",
    "- Encodes services and locations as indices."
   ]
  },
  {
   "cell_type": "code",
   "execution_count": 4,
   "metadata": {},
   "outputs": [],
   "source": [
    "# URL of the CSV file on GitHub\n",
    "file_url = 'https://raw.githubusercontent.com/Man-door/Machine-Learning/main/dataset/data_final.csv'\n",
    "\n",
    "# Load the dataset from the URL\n",
    "dataset = pd.read_csv(file_url)\n",
    "\n",
    "# Extract services and locations from the dataset\n",
    "unique_services = list(set([service.strip() for sublist in dataset['layanan_lain'].apply(eval).tolist() for service in sublist]))\n",
    "unique_locations = list(set([loc.strip() for sublist in dataset['jangkauan'].apply(eval).tolist() for loc in sublist]))\n",
    "\n",
    "# Encode services and locations from the dataset\n",
    "service_to_idx = {service: idx for idx, service in enumerate(unique_services)}\n",
    "location_to_idx = {loc: idx for idx, loc in enumerate(unique_locations)}\n",
    "\n",
    "# Encode services and locations as indices in the dataset\n",
    "dataset['layanan_indices'] = dataset['layanan_lain'].apply(\n",
    "    lambda x: [service_to_idx[service.strip()] for service in eval(x)]\n",
    ")\n",
    "dataset['location_indices'] = dataset['jangkauan'].apply(\n",
    "    lambda x: [location_to_idx[loc.strip()] for loc in eval(x)]\n",
    ")\n"
   ]
  },
  {
   "cell_type": "markdown",
   "metadata": {},
   "source": [
    "## Padding Services and Locations and Extracting Features\n",
    "\n",
    "This section of the code pads service and location sequences to a fixed length and extracts specific features."
   ]
  },
  {
   "cell_type": "code",
   "execution_count": 5,
   "metadata": {},
   "outputs": [],
   "source": [
    "# Pad services and locations to a fixed length\n",
    "X_services = pad_sequences(dataset['layanan_indices'], maxlen=10, padding='post')\n",
    "X_locations = pad_sequences(dataset['location_indices'], maxlen=10, padding='post')\n",
    "\n",
    "# Extract the `rating_user`, `pengalaman`, and `portofolio` as features\n",
    "X_rating_user = dataset['rating_user'].values\n",
    "X_pengalaman = dataset['pengalaman'].values\n",
    "X_portofolio = dataset['portofolio'].values\n"
   ]
  },
  {
   "cell_type": "markdown",
   "metadata": {},
   "source": [
    "## Simulating User Preferences and Preparing Input Data\n",
    "\n",
    "This code simulates user preferences based on various input features and prepares them for model input."
   ]
  },
  {
   "cell_type": "code",
   "execution_count": 6,
   "metadata": {},
   "outputs": [],
   "source": [
    "# Simulate user preferences based on services, locations, rating, pengalaman, and portofolio\n",
    "\n",
    "input_layanan = [\"plafon\",\"pemasangan atap\"]\n",
    "input_lokasi = [\"jakarta\"]\n",
    "input_rating_user = 4  # User input between 1-5\n",
    "input_pengalaman = 5  # User input for pengalaman (between 1-5)\n",
    "input_portofolio = 2  # User input for portofolio (between 1-5)\n",
    "\n",
    "# Normalize user input for rating, pengalaman, and portofolio to fit dataset's normalized range (0-1)\n",
    "input_rating_user_normalized = normalize_input(input_rating_user)\n",
    "input_pengalaman_normalized = normalize_input(input_pengalaman)\n",
    "input_portofolio_normalized = normalize_input(input_portofolio)\n",
    "\n",
    "# Create encoding for services and locations based on user input\n",
    "service_to_idx, encoded_services = create_encoding_dict(input_layanan)\n",
    "location_to_idx, encoded_locations = create_encoding_dict(input_lokasi)\n",
    "\n",
    "# Pad the encoded services and locations for user input\n",
    "X_services_input = pad_sequences([encoded_services], maxlen=10, padding='post')\n",
    "X_locations_input = pad_sequences([encoded_locations], maxlen=10, padding='post')\n",
    "\n",
    "# Prepare the normalized user rating_user, pengalaman, and portofolio as numerical inputs\n",
    "X_rating_user_input = np.array([[input_rating_user_normalized]])\n",
    "X_pengalaman_input = np.array([[input_pengalaman_normalized]])\n",
    "X_portofolio_input = np.array([[input_portofolio_normalized]])\n"
   ]
  },
  {
   "cell_type": "markdown",
   "metadata": {},
   "source": [
    "## Splitting the Data into Training and Validation Sets\n",
    "\n",
    "This part of the code splits the features into training and validation sets using `train_test_split`."
   ]
  },
  {
   "cell_type": "code",
   "execution_count": 7,
   "metadata": {},
   "outputs": [],
   "source": [
    "# Split data into training and validation sets (we'll use services, locations, rating_user, pengalaman, and portofolio)\n",
    "X_train_services, X_val_services, X_train_locations, X_val_locations, X_train_rating_user, X_val_rating_user, X_train_pengalaman, X_val_pengalaman, X_train_portofolio, X_val_portofolio = train_test_split(\n",
    "    X_services, X_locations, X_rating_user, X_pengalaman, X_portofolio, test_size=0.2, random_state=42\n",
    ")\n"
   ]
  },
  {
   "cell_type": "markdown",
   "metadata": {},
   "source": [
    "## Building the Model\n",
    "\n",
    "Defines a model with embeddings for services and locations, concatenates additional features (rating, experience, portfolio), and outputs a relevance score."
   ]
  },
  {
   "cell_type": "code",
   "execution_count": 8,
   "metadata": {},
   "outputs": [],
   "source": [
    "# Build the model (we'll now include the pengalaman and portofolio in the prediction)\n",
    "service_input = Input(shape=(10,), name='service_input')\n",
    "service_embedding = Embedding(input_dim=len(unique_services), output_dim=8)(service_input)\n",
    "service_embedding = Flatten()(service_embedding)\n",
    "\n",
    "location_input = Input(shape=(10,), name='location_input')\n",
    "location_embedding = Embedding(input_dim=len(unique_locations), output_dim=8)(location_input)\n",
    "location_embedding = Flatten()(location_embedding)\n",
    "\n",
    "rating_user_input = Input(shape=(1,), name='rating_user_input')\n",
    "pengalaman_input = Input(shape=(1,), name='pengalaman_input')\n",
    "portofolio_input = Input(shape=(1,), name='portofolio_input')\n",
    "\n",
    "# Concatenate service, location, rating_user, pengalaman, and portofolio\n",
    "concatenated = Concatenate()([service_embedding, location_embedding, rating_user_input, pengalaman_input, portofolio_input])\n",
    "\n",
    "# Dense layers\n",
    "dense1 = Dense(128, activation='relu')(concatenated)\n",
    "dense2 = Dense(64, activation='relu')(dense1)\n",
    "output = Dense(1, activation='linear', name='relevance_score')(dense2)\n"
   ]
  },
  {
   "cell_type": "markdown",
   "metadata": {},
   "source": [
    "## Compiling the Model\n",
    "\n",
    "This section compiles the model, specifying the optimizer (`Adam`), loss function (`mse`), and evaluation metric (`mae`). It also displays the model summary.\n"
   ]
  },
  {
   "cell_type": "code",
   "execution_count": 9,
   "metadata": {},
   "outputs": [
    {
     "data": {
      "text/html": [
       "<pre style=\"white-space:pre;overflow-x:auto;line-height:normal;font-family:Menlo,'DejaVu Sans Mono',consolas,'Courier New',monospace\"><span style=\"font-weight: bold\">Model: \"functional\"</span>\n",
       "</pre>\n"
      ],
      "text/plain": [
       "\u001b[1mModel: \"functional\"\u001b[0m\n"
      ]
     },
     "metadata": {},
     "output_type": "display_data"
    },
    {
     "data": {
      "text/html": [
       "<pre style=\"white-space:pre;overflow-x:auto;line-height:normal;font-family:Menlo,'DejaVu Sans Mono',consolas,'Courier New',monospace\">┏━━━━━━━━━━━━━━━━━━━━━┳━━━━━━━━━━━━━━━━━━━┳━━━━━━━━━━━━┳━━━━━━━━━━━━━━━━━━━┓\n",
       "┃<span style=\"font-weight: bold\"> Layer (type)        </span>┃<span style=\"font-weight: bold\"> Output Shape      </span>┃<span style=\"font-weight: bold\">    Param # </span>┃<span style=\"font-weight: bold\"> Connected to      </span>┃\n",
       "┡━━━━━━━━━━━━━━━━━━━━━╇━━━━━━━━━━━━━━━━━━━╇━━━━━━━━━━━━╇━━━━━━━━━━━━━━━━━━━┩\n",
       "│ service_input       │ (<span style=\"color: #00d7ff; text-decoration-color: #00d7ff\">None</span>, <span style=\"color: #00af00; text-decoration-color: #00af00\">10</span>)        │          <span style=\"color: #00af00; text-decoration-color: #00af00\">0</span> │ -                 │\n",
       "│ (<span style=\"color: #0087ff; text-decoration-color: #0087ff\">InputLayer</span>)        │                   │            │                   │\n",
       "├─────────────────────┼───────────────────┼────────────┼───────────────────┤\n",
       "│ location_input      │ (<span style=\"color: #00d7ff; text-decoration-color: #00d7ff\">None</span>, <span style=\"color: #00af00; text-decoration-color: #00af00\">10</span>)        │          <span style=\"color: #00af00; text-decoration-color: #00af00\">0</span> │ -                 │\n",
       "│ (<span style=\"color: #0087ff; text-decoration-color: #0087ff\">InputLayer</span>)        │                   │            │                   │\n",
       "├─────────────────────┼───────────────────┼────────────┼───────────────────┤\n",
       "│ embedding           │ (<span style=\"color: #00d7ff; text-decoration-color: #00d7ff\">None</span>, <span style=\"color: #00af00; text-decoration-color: #00af00\">10</span>, <span style=\"color: #00af00; text-decoration-color: #00af00\">8</span>)     │        <span style=\"color: #00af00; text-decoration-color: #00af00\">608</span> │ service_input[<span style=\"color: #00af00; text-decoration-color: #00af00\">0</span>]… │\n",
       "│ (<span style=\"color: #0087ff; text-decoration-color: #0087ff\">Embedding</span>)         │                   │            │                   │\n",
       "├─────────────────────┼───────────────────┼────────────┼───────────────────┤\n",
       "│ embedding_1         │ (<span style=\"color: #00d7ff; text-decoration-color: #00d7ff\">None</span>, <span style=\"color: #00af00; text-decoration-color: #00af00\">10</span>, <span style=\"color: #00af00; text-decoration-color: #00af00\">8</span>)     │      <span style=\"color: #00af00; text-decoration-color: #00af00\">3,528</span> │ location_input[<span style=\"color: #00af00; text-decoration-color: #00af00\">0</span>… │\n",
       "│ (<span style=\"color: #0087ff; text-decoration-color: #0087ff\">Embedding</span>)         │                   │            │                   │\n",
       "├─────────────────────┼───────────────────┼────────────┼───────────────────┤\n",
       "│ flatten (<span style=\"color: #0087ff; text-decoration-color: #0087ff\">Flatten</span>)   │ (<span style=\"color: #00d7ff; text-decoration-color: #00d7ff\">None</span>, <span style=\"color: #00af00; text-decoration-color: #00af00\">80</span>)        │          <span style=\"color: #00af00; text-decoration-color: #00af00\">0</span> │ embedding[<span style=\"color: #00af00; text-decoration-color: #00af00\">0</span>][<span style=\"color: #00af00; text-decoration-color: #00af00\">0</span>]   │\n",
       "├─────────────────────┼───────────────────┼────────────┼───────────────────┤\n",
       "│ flatten_1 (<span style=\"color: #0087ff; text-decoration-color: #0087ff\">Flatten</span>) │ (<span style=\"color: #00d7ff; text-decoration-color: #00d7ff\">None</span>, <span style=\"color: #00af00; text-decoration-color: #00af00\">80</span>)        │          <span style=\"color: #00af00; text-decoration-color: #00af00\">0</span> │ embedding_1[<span style=\"color: #00af00; text-decoration-color: #00af00\">0</span>][<span style=\"color: #00af00; text-decoration-color: #00af00\">0</span>] │\n",
       "├─────────────────────┼───────────────────┼────────────┼───────────────────┤\n",
       "│ rating_user_input   │ (<span style=\"color: #00d7ff; text-decoration-color: #00d7ff\">None</span>, <span style=\"color: #00af00; text-decoration-color: #00af00\">1</span>)         │          <span style=\"color: #00af00; text-decoration-color: #00af00\">0</span> │ -                 │\n",
       "│ (<span style=\"color: #0087ff; text-decoration-color: #0087ff\">InputLayer</span>)        │                   │            │                   │\n",
       "├─────────────────────┼───────────────────┼────────────┼───────────────────┤\n",
       "│ pengalaman_input    │ (<span style=\"color: #00d7ff; text-decoration-color: #00d7ff\">None</span>, <span style=\"color: #00af00; text-decoration-color: #00af00\">1</span>)         │          <span style=\"color: #00af00; text-decoration-color: #00af00\">0</span> │ -                 │\n",
       "│ (<span style=\"color: #0087ff; text-decoration-color: #0087ff\">InputLayer</span>)        │                   │            │                   │\n",
       "├─────────────────────┼───────────────────┼────────────┼───────────────────┤\n",
       "│ portofolio_input    │ (<span style=\"color: #00d7ff; text-decoration-color: #00d7ff\">None</span>, <span style=\"color: #00af00; text-decoration-color: #00af00\">1</span>)         │          <span style=\"color: #00af00; text-decoration-color: #00af00\">0</span> │ -                 │\n",
       "│ (<span style=\"color: #0087ff; text-decoration-color: #0087ff\">InputLayer</span>)        │                   │            │                   │\n",
       "├─────────────────────┼───────────────────┼────────────┼───────────────────┤\n",
       "│ concatenate         │ (<span style=\"color: #00d7ff; text-decoration-color: #00d7ff\">None</span>, <span style=\"color: #00af00; text-decoration-color: #00af00\">163</span>)       │          <span style=\"color: #00af00; text-decoration-color: #00af00\">0</span> │ flatten[<span style=\"color: #00af00; text-decoration-color: #00af00\">0</span>][<span style=\"color: #00af00; text-decoration-color: #00af00\">0</span>],    │\n",
       "│ (<span style=\"color: #0087ff; text-decoration-color: #0087ff\">Concatenate</span>)       │                   │            │ flatten_1[<span style=\"color: #00af00; text-decoration-color: #00af00\">0</span>][<span style=\"color: #00af00; text-decoration-color: #00af00\">0</span>],  │\n",
       "│                     │                   │            │ rating_user_inpu… │\n",
       "│                     │                   │            │ pengalaman_input… │\n",
       "│                     │                   │            │ portofolio_input… │\n",
       "├─────────────────────┼───────────────────┼────────────┼───────────────────┤\n",
       "│ dense (<span style=\"color: #0087ff; text-decoration-color: #0087ff\">Dense</span>)       │ (<span style=\"color: #00d7ff; text-decoration-color: #00d7ff\">None</span>, <span style=\"color: #00af00; text-decoration-color: #00af00\">128</span>)       │     <span style=\"color: #00af00; text-decoration-color: #00af00\">20,992</span> │ concatenate[<span style=\"color: #00af00; text-decoration-color: #00af00\">0</span>][<span style=\"color: #00af00; text-decoration-color: #00af00\">0</span>] │\n",
       "├─────────────────────┼───────────────────┼────────────┼───────────────────┤\n",
       "│ dense_1 (<span style=\"color: #0087ff; text-decoration-color: #0087ff\">Dense</span>)     │ (<span style=\"color: #00d7ff; text-decoration-color: #00d7ff\">None</span>, <span style=\"color: #00af00; text-decoration-color: #00af00\">64</span>)        │      <span style=\"color: #00af00; text-decoration-color: #00af00\">8,256</span> │ dense[<span style=\"color: #00af00; text-decoration-color: #00af00\">0</span>][<span style=\"color: #00af00; text-decoration-color: #00af00\">0</span>]       │\n",
       "├─────────────────────┼───────────────────┼────────────┼───────────────────┤\n",
       "│ relevance_score     │ (<span style=\"color: #00d7ff; text-decoration-color: #00d7ff\">None</span>, <span style=\"color: #00af00; text-decoration-color: #00af00\">1</span>)         │         <span style=\"color: #00af00; text-decoration-color: #00af00\">65</span> │ dense_1[<span style=\"color: #00af00; text-decoration-color: #00af00\">0</span>][<span style=\"color: #00af00; text-decoration-color: #00af00\">0</span>]     │\n",
       "│ (<span style=\"color: #0087ff; text-decoration-color: #0087ff\">Dense</span>)             │                   │            │                   │\n",
       "└─────────────────────┴───────────────────┴────────────┴───────────────────┘\n",
       "</pre>\n"
      ],
      "text/plain": [
       "┏━━━━━━━━━━━━━━━━━━━━━┳━━━━━━━━━━━━━━━━━━━┳━━━━━━━━━━━━┳━━━━━━━━━━━━━━━━━━━┓\n",
       "┃\u001b[1m \u001b[0m\u001b[1mLayer (type)       \u001b[0m\u001b[1m \u001b[0m┃\u001b[1m \u001b[0m\u001b[1mOutput Shape     \u001b[0m\u001b[1m \u001b[0m┃\u001b[1m \u001b[0m\u001b[1m   Param #\u001b[0m\u001b[1m \u001b[0m┃\u001b[1m \u001b[0m\u001b[1mConnected to     \u001b[0m\u001b[1m \u001b[0m┃\n",
       "┡━━━━━━━━━━━━━━━━━━━━━╇━━━━━━━━━━━━━━━━━━━╇━━━━━━━━━━━━╇━━━━━━━━━━━━━━━━━━━┩\n",
       "│ service_input       │ (\u001b[38;5;45mNone\u001b[0m, \u001b[38;5;34m10\u001b[0m)        │          \u001b[38;5;34m0\u001b[0m │ -                 │\n",
       "│ (\u001b[38;5;33mInputLayer\u001b[0m)        │                   │            │                   │\n",
       "├─────────────────────┼───────────────────┼────────────┼───────────────────┤\n",
       "│ location_input      │ (\u001b[38;5;45mNone\u001b[0m, \u001b[38;5;34m10\u001b[0m)        │          \u001b[38;5;34m0\u001b[0m │ -                 │\n",
       "│ (\u001b[38;5;33mInputLayer\u001b[0m)        │                   │            │                   │\n",
       "├─────────────────────┼───────────────────┼────────────┼───────────────────┤\n",
       "│ embedding           │ (\u001b[38;5;45mNone\u001b[0m, \u001b[38;5;34m10\u001b[0m, \u001b[38;5;34m8\u001b[0m)     │        \u001b[38;5;34m608\u001b[0m │ service_input[\u001b[38;5;34m0\u001b[0m]… │\n",
       "│ (\u001b[38;5;33mEmbedding\u001b[0m)         │                   │            │                   │\n",
       "├─────────────────────┼───────────────────┼────────────┼───────────────────┤\n",
       "│ embedding_1         │ (\u001b[38;5;45mNone\u001b[0m, \u001b[38;5;34m10\u001b[0m, \u001b[38;5;34m8\u001b[0m)     │      \u001b[38;5;34m3,528\u001b[0m │ location_input[\u001b[38;5;34m0\u001b[0m… │\n",
       "│ (\u001b[38;5;33mEmbedding\u001b[0m)         │                   │            │                   │\n",
       "├─────────────────────┼───────────────────┼────────────┼───────────────────┤\n",
       "│ flatten (\u001b[38;5;33mFlatten\u001b[0m)   │ (\u001b[38;5;45mNone\u001b[0m, \u001b[38;5;34m80\u001b[0m)        │          \u001b[38;5;34m0\u001b[0m │ embedding[\u001b[38;5;34m0\u001b[0m][\u001b[38;5;34m0\u001b[0m]   │\n",
       "├─────────────────────┼───────────────────┼────────────┼───────────────────┤\n",
       "│ flatten_1 (\u001b[38;5;33mFlatten\u001b[0m) │ (\u001b[38;5;45mNone\u001b[0m, \u001b[38;5;34m80\u001b[0m)        │          \u001b[38;5;34m0\u001b[0m │ embedding_1[\u001b[38;5;34m0\u001b[0m][\u001b[38;5;34m0\u001b[0m] │\n",
       "├─────────────────────┼───────────────────┼────────────┼───────────────────┤\n",
       "│ rating_user_input   │ (\u001b[38;5;45mNone\u001b[0m, \u001b[38;5;34m1\u001b[0m)         │          \u001b[38;5;34m0\u001b[0m │ -                 │\n",
       "│ (\u001b[38;5;33mInputLayer\u001b[0m)        │                   │            │                   │\n",
       "├─────────────────────┼───────────────────┼────────────┼───────────────────┤\n",
       "│ pengalaman_input    │ (\u001b[38;5;45mNone\u001b[0m, \u001b[38;5;34m1\u001b[0m)         │          \u001b[38;5;34m0\u001b[0m │ -                 │\n",
       "│ (\u001b[38;5;33mInputLayer\u001b[0m)        │                   │            │                   │\n",
       "├─────────────────────┼───────────────────┼────────────┼───────────────────┤\n",
       "│ portofolio_input    │ (\u001b[38;5;45mNone\u001b[0m, \u001b[38;5;34m1\u001b[0m)         │          \u001b[38;5;34m0\u001b[0m │ -                 │\n",
       "│ (\u001b[38;5;33mInputLayer\u001b[0m)        │                   │            │                   │\n",
       "├─────────────────────┼───────────────────┼────────────┼───────────────────┤\n",
       "│ concatenate         │ (\u001b[38;5;45mNone\u001b[0m, \u001b[38;5;34m163\u001b[0m)       │          \u001b[38;5;34m0\u001b[0m │ flatten[\u001b[38;5;34m0\u001b[0m][\u001b[38;5;34m0\u001b[0m],    │\n",
       "│ (\u001b[38;5;33mConcatenate\u001b[0m)       │                   │            │ flatten_1[\u001b[38;5;34m0\u001b[0m][\u001b[38;5;34m0\u001b[0m],  │\n",
       "│                     │                   │            │ rating_user_inpu… │\n",
       "│                     │                   │            │ pengalaman_input… │\n",
       "│                     │                   │            │ portofolio_input… │\n",
       "├─────────────────────┼───────────────────┼────────────┼───────────────────┤\n",
       "│ dense (\u001b[38;5;33mDense\u001b[0m)       │ (\u001b[38;5;45mNone\u001b[0m, \u001b[38;5;34m128\u001b[0m)       │     \u001b[38;5;34m20,992\u001b[0m │ concatenate[\u001b[38;5;34m0\u001b[0m][\u001b[38;5;34m0\u001b[0m] │\n",
       "├─────────────────────┼───────────────────┼────────────┼───────────────────┤\n",
       "│ dense_1 (\u001b[38;5;33mDense\u001b[0m)     │ (\u001b[38;5;45mNone\u001b[0m, \u001b[38;5;34m64\u001b[0m)        │      \u001b[38;5;34m8,256\u001b[0m │ dense[\u001b[38;5;34m0\u001b[0m][\u001b[38;5;34m0\u001b[0m]       │\n",
       "├─────────────────────┼───────────────────┼────────────┼───────────────────┤\n",
       "│ relevance_score     │ (\u001b[38;5;45mNone\u001b[0m, \u001b[38;5;34m1\u001b[0m)         │         \u001b[38;5;34m65\u001b[0m │ dense_1[\u001b[38;5;34m0\u001b[0m][\u001b[38;5;34m0\u001b[0m]     │\n",
       "│ (\u001b[38;5;33mDense\u001b[0m)             │                   │            │                   │\n",
       "└─────────────────────┴───────────────────┴────────────┴───────────────────┘\n"
      ]
     },
     "metadata": {},
     "output_type": "display_data"
    },
    {
     "data": {
      "text/html": [
       "<pre style=\"white-space:pre;overflow-x:auto;line-height:normal;font-family:Menlo,'DejaVu Sans Mono',consolas,'Courier New',monospace\"><span style=\"font-weight: bold\"> Total params: </span><span style=\"color: #00af00; text-decoration-color: #00af00\">33,449</span> (130.66 KB)\n",
       "</pre>\n"
      ],
      "text/plain": [
       "\u001b[1m Total params: \u001b[0m\u001b[38;5;34m33,449\u001b[0m (130.66 KB)\n"
      ]
     },
     "metadata": {},
     "output_type": "display_data"
    },
    {
     "data": {
      "text/html": [
       "<pre style=\"white-space:pre;overflow-x:auto;line-height:normal;font-family:Menlo,'DejaVu Sans Mono',consolas,'Courier New',monospace\"><span style=\"font-weight: bold\"> Trainable params: </span><span style=\"color: #00af00; text-decoration-color: #00af00\">33,449</span> (130.66 KB)\n",
       "</pre>\n"
      ],
      "text/plain": [
       "\u001b[1m Trainable params: \u001b[0m\u001b[38;5;34m33,449\u001b[0m (130.66 KB)\n"
      ]
     },
     "metadata": {},
     "output_type": "display_data"
    },
    {
     "data": {
      "text/html": [
       "<pre style=\"white-space:pre;overflow-x:auto;line-height:normal;font-family:Menlo,'DejaVu Sans Mono',consolas,'Courier New',monospace\"><span style=\"font-weight: bold\"> Non-trainable params: </span><span style=\"color: #00af00; text-decoration-color: #00af00\">0</span> (0.00 B)\n",
       "</pre>\n"
      ],
      "text/plain": [
       "\u001b[1m Non-trainable params: \u001b[0m\u001b[38;5;34m0\u001b[0m (0.00 B)\n"
      ]
     },
     "metadata": {},
     "output_type": "display_data"
    }
   ],
   "source": [
    "# Compile the model\n",
    "model = Model(\n",
    "    inputs=[\n",
    "        service_input, \n",
    "        location_input, \n",
    "        rating_user_input, \n",
    "        pengalaman_input, \n",
    "        portofolio_input\n",
    "        ], \n",
    "    outputs=output)\n",
    "\n",
    "model.compile(\n",
    "    optimizer=Adam(), \n",
    "    loss='mse', \n",
    "    metrics=['mae'])\n",
    "\n",
    "model.summary()"
   ]
  },
  {
   "cell_type": "markdown",
   "metadata": {},
   "source": [
    "## Training the Model\n",
    "\n",
    "This part trains the model using the training data (`X_train_services`, `X_train_locations`, etc.), with dummy relevance scores. It runs for 50 epochs, with a batch size of 32, and includes validation data for performance evaluation.\n"
   ]
  },
  {
   "cell_type": "code",
   "execution_count": 10,
   "metadata": {},
   "outputs": [
    {
     "name": "stdout",
     "output_type": "stream",
     "text": [
      "Epoch 1/50\n"
     ]
    },
    {
     "name": "stderr",
     "output_type": "stream",
     "text": [
      "d:\\BANGKIT\\TensorJS\\tfvenv\\Lib\\site-packages\\keras\\src\\models\\functional.py:225: UserWarning: The structure of `inputs` doesn't match the expected structure: ['service_input', 'location_input', 'rating_user_input', 'pengalaman_input', 'portofolio_input']. Received: the structure of inputs=('*', '*', '*', '*', '*')\n",
      "  warnings.warn(\n"
     ]
    },
    {
     "name": "stdout",
     "output_type": "stream",
     "text": [
      "\u001b[1m28/28\u001b[0m \u001b[32m━━━━━━━━━━━━━━━━━━━━\u001b[0m\u001b[37m\u001b[0m \u001b[1m2s\u001b[0m 11ms/step - loss: 0.5262 - mae: 0.6388 - val_loss: 0.1030 - val_mae: 0.2745\n",
      "Epoch 2/50\n",
      "\u001b[1m28/28\u001b[0m \u001b[32m━━━━━━━━━━━━━━━━━━━━\u001b[0m\u001b[37m\u001b[0m \u001b[1m0s\u001b[0m 3ms/step - loss: 0.0654 - mae: 0.2122 - val_loss: 0.0151 - val_mae: 0.0973\n",
      "Epoch 3/50\n",
      "\u001b[1m28/28\u001b[0m \u001b[32m━━━━━━━━━━━━━━━━━━━━\u001b[0m\u001b[37m\u001b[0m \u001b[1m0s\u001b[0m 3ms/step - loss: 0.0076 - mae: 0.0661 - val_loss: 0.0048 - val_mae: 0.0489\n",
      "Epoch 4/50\n",
      "\u001b[1m28/28\u001b[0m \u001b[32m━━━━━━━━━━━━━━━━━━━━\u001b[0m\u001b[37m\u001b[0m \u001b[1m0s\u001b[0m 4ms/step - loss: 0.0027 - mae: 0.0397 - val_loss: 0.0032 - val_mae: 0.0363\n",
      "Epoch 5/50\n",
      "\u001b[1m28/28\u001b[0m \u001b[32m━━━━━━━━━━━━━━━━━━━━\u001b[0m\u001b[37m\u001b[0m \u001b[1m0s\u001b[0m 3ms/step - loss: 0.0013 - mae: 0.0285 - val_loss: 0.0024 - val_mae: 0.0292\n",
      "Epoch 6/50\n",
      "\u001b[1m28/28\u001b[0m \u001b[32m━━━━━━━━━━━━━━━━━━━━\u001b[0m\u001b[37m\u001b[0m \u001b[1m0s\u001b[0m 3ms/step - loss: 7.6219e-04 - mae: 0.0214 - val_loss: 0.0020 - val_mae: 0.0268\n",
      "Epoch 7/50\n",
      "\u001b[1m28/28\u001b[0m \u001b[32m━━━━━━━━━━━━━━━━━━━━\u001b[0m\u001b[37m\u001b[0m \u001b[1m0s\u001b[0m 3ms/step - loss: 4.3453e-04 - mae: 0.0163 - val_loss: 0.0019 - val_mae: 0.0253\n",
      "Epoch 8/50\n",
      "\u001b[1m28/28\u001b[0m \u001b[32m━━━━━━━━━━━━━━━━━━━━\u001b[0m\u001b[37m\u001b[0m \u001b[1m0s\u001b[0m 3ms/step - loss: 3.6143e-04 - mae: 0.0149 - val_loss: 0.0018 - val_mae: 0.0227\n",
      "Epoch 9/50\n",
      "\u001b[1m28/28\u001b[0m \u001b[32m━━━━━━━━━━━━━━━━━━━━\u001b[0m\u001b[37m\u001b[0m \u001b[1m0s\u001b[0m 3ms/step - loss: 2.6338e-04 - mae: 0.0128 - val_loss: 0.0017 - val_mae: 0.0211\n",
      "Epoch 10/50\n",
      "\u001b[1m28/28\u001b[0m \u001b[32m━━━━━━━━━━━━━━━━━━━━\u001b[0m\u001b[37m\u001b[0m \u001b[1m0s\u001b[0m 3ms/step - loss: 2.3214e-04 - mae: 0.0120 - val_loss: 0.0015 - val_mae: 0.0207\n",
      "Epoch 11/50\n",
      "\u001b[1m28/28\u001b[0m \u001b[32m━━━━━━━━━━━━━━━━━━━━\u001b[0m\u001b[37m\u001b[0m \u001b[1m0s\u001b[0m 3ms/step - loss: 1.7879e-04 - mae: 0.0106 - val_loss: 0.0015 - val_mae: 0.0195\n",
      "Epoch 12/50\n",
      "\u001b[1m28/28\u001b[0m \u001b[32m━━━━━━━━━━━━━━━━━━━━\u001b[0m\u001b[37m\u001b[0m \u001b[1m0s\u001b[0m 3ms/step - loss: 1.4982e-04 - mae: 0.0097 - val_loss: 0.0016 - val_mae: 0.0210\n",
      "Epoch 13/50\n",
      "\u001b[1m28/28\u001b[0m \u001b[32m━━━━━━━━━━━━━━━━━━━━\u001b[0m\u001b[37m\u001b[0m \u001b[1m0s\u001b[0m 3ms/step - loss: 1.6884e-04 - mae: 0.0103 - val_loss: 0.0013 - val_mae: 0.0179\n",
      "Epoch 14/50\n",
      "\u001b[1m28/28\u001b[0m \u001b[32m━━━━━━━━━━━━━━━━━━━━\u001b[0m\u001b[37m\u001b[0m \u001b[1m0s\u001b[0m 3ms/step - loss: 1.0286e-04 - mae: 0.0081 - val_loss: 0.0013 - val_mae: 0.0172\n",
      "Epoch 15/50\n",
      "\u001b[1m28/28\u001b[0m \u001b[32m━━━━━━━━━━━━━━━━━━━━\u001b[0m\u001b[37m\u001b[0m \u001b[1m0s\u001b[0m 3ms/step - loss: 8.5364e-05 - mae: 0.0072 - val_loss: 0.0012 - val_mae: 0.0169\n",
      "Epoch 16/50\n",
      "\u001b[1m28/28\u001b[0m \u001b[32m━━━━━━━━━━━━━━━━━━━━\u001b[0m\u001b[37m\u001b[0m \u001b[1m0s\u001b[0m 3ms/step - loss: 7.3390e-05 - mae: 0.0066 - val_loss: 0.0012 - val_mae: 0.0168\n",
      "Epoch 17/50\n",
      "\u001b[1m28/28\u001b[0m \u001b[32m━━━━━━━━━━━━━━━━━━━━\u001b[0m\u001b[37m\u001b[0m \u001b[1m0s\u001b[0m 3ms/step - loss: 7.5915e-05 - mae: 0.0068 - val_loss: 0.0012 - val_mae: 0.0157\n",
      "Epoch 18/50\n",
      "\u001b[1m28/28\u001b[0m \u001b[32m━━━━━━━━━━━━━━━━━━━━\u001b[0m\u001b[37m\u001b[0m \u001b[1m0s\u001b[0m 3ms/step - loss: 6.5698e-05 - mae: 0.0061 - val_loss: 0.0012 - val_mae: 0.0155\n",
      "Epoch 19/50\n",
      "\u001b[1m28/28\u001b[0m \u001b[32m━━━━━━━━━━━━━━━━━━━━\u001b[0m\u001b[37m\u001b[0m \u001b[1m0s\u001b[0m 3ms/step - loss: 6.1278e-05 - mae: 0.0061 - val_loss: 0.0011 - val_mae: 0.0160\n",
      "Epoch 20/50\n",
      "\u001b[1m28/28\u001b[0m \u001b[32m━━━━━━━━━━━━━━━━━━━━\u001b[0m\u001b[37m\u001b[0m \u001b[1m0s\u001b[0m 3ms/step - loss: 5.2693e-05 - mae: 0.0057 - val_loss: 0.0011 - val_mae: 0.0150\n",
      "Epoch 21/50\n",
      "\u001b[1m28/28\u001b[0m \u001b[32m━━━━━━━━━━━━━━━━━━━━\u001b[0m\u001b[37m\u001b[0m \u001b[1m0s\u001b[0m 3ms/step - loss: 4.8438e-05 - mae: 0.0056 - val_loss: 0.0012 - val_mae: 0.0163\n",
      "Epoch 22/50\n",
      "\u001b[1m28/28\u001b[0m \u001b[32m━━━━━━━━━━━━━━━━━━━━\u001b[0m\u001b[37m\u001b[0m \u001b[1m0s\u001b[0m 3ms/step - loss: 6.1115e-05 - mae: 0.0063 - val_loss: 0.0011 - val_mae: 0.0155\n",
      "Epoch 23/50\n",
      "\u001b[1m28/28\u001b[0m \u001b[32m━━━━━━━━━━━━━━━━━━━━\u001b[0m\u001b[37m\u001b[0m \u001b[1m0s\u001b[0m 3ms/step - loss: 5.0438e-05 - mae: 0.0057 - val_loss: 0.0011 - val_mae: 0.0146\n",
      "Epoch 24/50\n",
      "\u001b[1m28/28\u001b[0m \u001b[32m━━━━━━━━━━━━━━━━━━━━\u001b[0m\u001b[37m\u001b[0m \u001b[1m0s\u001b[0m 3ms/step - loss: 4.0809e-05 - mae: 0.0051 - val_loss: 0.0011 - val_mae: 0.0138\n",
      "Epoch 25/50\n",
      "\u001b[1m28/28\u001b[0m \u001b[32m━━━━━━━━━━━━━━━━━━━━\u001b[0m\u001b[37m\u001b[0m \u001b[1m0s\u001b[0m 3ms/step - loss: 3.3993e-05 - mae: 0.0045 - val_loss: 9.9581e-04 - val_mae: 0.0136\n",
      "Epoch 26/50\n",
      "\u001b[1m28/28\u001b[0m \u001b[32m━━━━━━━━━━━━━━━━━━━━\u001b[0m\u001b[37m\u001b[0m \u001b[1m0s\u001b[0m 4ms/step - loss: 2.9589e-05 - mae: 0.0043 - val_loss: 0.0010 - val_mae: 0.0133\n",
      "Epoch 27/50\n",
      "\u001b[1m28/28\u001b[0m \u001b[32m━━━━━━━━━━━━━━━━━━━━\u001b[0m\u001b[37m\u001b[0m \u001b[1m0s\u001b[0m 3ms/step - loss: 2.6671e-05 - mae: 0.0040 - val_loss: 9.6439e-04 - val_mae: 0.0139\n",
      "Epoch 28/50\n",
      "\u001b[1m28/28\u001b[0m \u001b[32m━━━━━━━━━━━━━━━━━━━━\u001b[0m\u001b[37m\u001b[0m \u001b[1m0s\u001b[0m 3ms/step - loss: 2.9684e-05 - mae: 0.0043 - val_loss: 9.8632e-04 - val_mae: 0.0131\n",
      "Epoch 29/50\n",
      "\u001b[1m28/28\u001b[0m \u001b[32m━━━━━━━━━━━━━━━━━━━━\u001b[0m\u001b[37m\u001b[0m \u001b[1m0s\u001b[0m 3ms/step - loss: 2.8075e-05 - mae: 0.0041 - val_loss: 9.5642e-04 - val_mae: 0.0130\n",
      "Epoch 30/50\n",
      "\u001b[1m28/28\u001b[0m \u001b[32m━━━━━━━━━━━━━━━━━━━━\u001b[0m\u001b[37m\u001b[0m \u001b[1m0s\u001b[0m 3ms/step - loss: 2.2378e-05 - mae: 0.0037 - val_loss: 9.3514e-04 - val_mae: 0.0127\n",
      "Epoch 31/50\n",
      "\u001b[1m28/28\u001b[0m \u001b[32m━━━━━━━━━━━━━━━━━━━━\u001b[0m\u001b[37m\u001b[0m \u001b[1m0s\u001b[0m 3ms/step - loss: 1.9094e-05 - mae: 0.0034 - val_loss: 9.2020e-04 - val_mae: 0.0127\n",
      "Epoch 32/50\n",
      "\u001b[1m28/28\u001b[0m \u001b[32m━━━━━━━━━━━━━━━━━━━━\u001b[0m\u001b[37m\u001b[0m \u001b[1m0s\u001b[0m 3ms/step - loss: 2.0993e-05 - mae: 0.0036 - val_loss: 9.3579e-04 - val_mae: 0.0126\n",
      "Epoch 33/50\n",
      "\u001b[1m28/28\u001b[0m \u001b[32m━━━━━━━━━━━━━━━━━━━━\u001b[0m\u001b[37m\u001b[0m \u001b[1m0s\u001b[0m 3ms/step - loss: 1.8709e-05 - mae: 0.0034 - val_loss: 9.0970e-04 - val_mae: 0.0122\n",
      "Epoch 34/50\n",
      "\u001b[1m28/28\u001b[0m \u001b[32m━━━━━━━━━━━━━━━━━━━━\u001b[0m\u001b[37m\u001b[0m \u001b[1m0s\u001b[0m 4ms/step - loss: 1.5994e-05 - mae: 0.0031 - val_loss: 9.0440e-04 - val_mae: 0.0120\n",
      "Epoch 35/50\n",
      "\u001b[1m28/28\u001b[0m \u001b[32m━━━━━━━━━━━━━━━━━━━━\u001b[0m\u001b[37m\u001b[0m \u001b[1m0s\u001b[0m 3ms/step - loss: 1.5395e-05 - mae: 0.0031 - val_loss: 9.2029e-04 - val_mae: 0.0122\n",
      "Epoch 36/50\n",
      "\u001b[1m28/28\u001b[0m \u001b[32m━━━━━━━━━━━━━━━━━━━━\u001b[0m\u001b[37m\u001b[0m \u001b[1m0s\u001b[0m 3ms/step - loss: 1.7606e-05 - mae: 0.0033 - val_loss: 8.9384e-04 - val_mae: 0.0119\n",
      "Epoch 37/50\n",
      "\u001b[1m28/28\u001b[0m \u001b[32m━━━━━━━━━━━━━━━━━━━━\u001b[0m\u001b[37m\u001b[0m \u001b[1m0s\u001b[0m 3ms/step - loss: 1.4838e-05 - mae: 0.0029 - val_loss: 9.1156e-04 - val_mae: 0.0122\n",
      "Epoch 38/50\n",
      "\u001b[1m28/28\u001b[0m \u001b[32m━━━━━━━━━━━━━━━━━━━━\u001b[0m\u001b[37m\u001b[0m \u001b[1m0s\u001b[0m 3ms/step - loss: 1.4607e-05 - mae: 0.0030 - val_loss: 8.7751e-04 - val_mae: 0.0120\n",
      "Epoch 39/50\n",
      "\u001b[1m28/28\u001b[0m \u001b[32m━━━━━━━━━━━━━━━━━━━━\u001b[0m\u001b[37m\u001b[0m \u001b[1m0s\u001b[0m 3ms/step - loss: 1.5250e-05 - mae: 0.0031 - val_loss: 8.8827e-04 - val_mae: 0.0117\n",
      "Epoch 40/50\n",
      "\u001b[1m28/28\u001b[0m \u001b[32m━━━━━━━━━━━━━━━━━━━━\u001b[0m\u001b[37m\u001b[0m \u001b[1m0s\u001b[0m 3ms/step - loss: 1.2742e-05 - mae: 0.0028 - val_loss: 8.6473e-04 - val_mae: 0.0117\n",
      "Epoch 41/50\n",
      "\u001b[1m28/28\u001b[0m \u001b[32m━━━━━━━━━━━━━━━━━━━━\u001b[0m\u001b[37m\u001b[0m \u001b[1m0s\u001b[0m 3ms/step - loss: 1.3458e-05 - mae: 0.0029 - val_loss: 8.7987e-04 - val_mae: 0.0115\n",
      "Epoch 42/50\n",
      "\u001b[1m28/28\u001b[0m \u001b[32m━━━━━━━━━━━━━━━━━━━━\u001b[0m\u001b[37m\u001b[0m \u001b[1m0s\u001b[0m 3ms/step - loss: 1.4911e-05 - mae: 0.0031 - val_loss: 8.9324e-04 - val_mae: 0.0123\n",
      "Epoch 43/50\n",
      "\u001b[1m28/28\u001b[0m \u001b[32m━━━━━━━━━━━━━━━━━━━━\u001b[0m\u001b[37m\u001b[0m \u001b[1m0s\u001b[0m 3ms/step - loss: 1.5785e-05 - mae: 0.0031 - val_loss: 8.3201e-04 - val_mae: 0.0117\n",
      "Epoch 44/50\n",
      "\u001b[1m28/28\u001b[0m \u001b[32m━━━━━━━━━━━━━━━━━━━━\u001b[0m\u001b[37m\u001b[0m \u001b[1m0s\u001b[0m 3ms/step - loss: 1.2266e-05 - mae: 0.0027 - val_loss: 8.3778e-04 - val_mae: 0.0112\n",
      "Epoch 45/50\n",
      "\u001b[1m28/28\u001b[0m \u001b[32m━━━━━━━━━━━━━━━━━━━━\u001b[0m\u001b[37m\u001b[0m \u001b[1m0s\u001b[0m 3ms/step - loss: 1.0471e-05 - mae: 0.0025 - val_loss: 8.4070e-04 - val_mae: 0.0111\n",
      "Epoch 46/50\n",
      "\u001b[1m28/28\u001b[0m \u001b[32m━━━━━━━━━━━━━━━━━━━━\u001b[0m\u001b[37m\u001b[0m \u001b[1m0s\u001b[0m 3ms/step - loss: 9.7051e-06 - mae: 0.0025 - val_loss: 8.4722e-04 - val_mae: 0.0112\n",
      "Epoch 47/50\n",
      "\u001b[1m28/28\u001b[0m \u001b[32m━━━━━━━━━━━━━━━━━━━━\u001b[0m\u001b[37m\u001b[0m \u001b[1m0s\u001b[0m 3ms/step - loss: 9.0932e-06 - mae: 0.0023 - val_loss: 8.3767e-04 - val_mae: 0.0112\n",
      "Epoch 48/50\n",
      "\u001b[1m28/28\u001b[0m \u001b[32m━━━━━━━━━━━━━━━━━━━━\u001b[0m\u001b[37m\u001b[0m \u001b[1m0s\u001b[0m 3ms/step - loss: 1.0069e-05 - mae: 0.0025 - val_loss: 8.3775e-04 - val_mae: 0.0110\n",
      "Epoch 49/50\n",
      "\u001b[1m28/28\u001b[0m \u001b[32m━━━━━━━━━━━━━━━━━━━━\u001b[0m\u001b[37m\u001b[0m \u001b[1m0s\u001b[0m 3ms/step - loss: 7.1970e-06 - mae: 0.0021 - val_loss: 8.4233e-04 - val_mae: 0.0110\n",
      "Epoch 50/50\n",
      "\u001b[1m28/28\u001b[0m \u001b[32m━━━━━━━━━━━━━━━━━━━━\u001b[0m\u001b[37m\u001b[0m \u001b[1m0s\u001b[0m 3ms/step - loss: 7.8419e-06 - mae: 0.0021 - val_loss: 8.2220e-04 - val_mae: 0.0111\n"
     ]
    }
   ],
   "source": [
    "# Train the model\n",
    "history = model.fit(\n",
    "    [X_train_services, X_train_locations, X_train_rating_user, X_train_pengalaman, X_train_portofolio],\n",
    "    np.ones(X_train_services.shape[0]),  # Dummy relevance score for training\n",
    "    epochs=50,\n",
    "    batch_size=32,\n",
    "    validation_data=([X_val_services, X_val_locations, X_val_rating_user, X_val_pengalaman, X_val_portofolio], np.ones(X_val_services.shape[0])),  # Dummy relevance score for validation\n",
    "    verbose=1\n",
    ")\n"
   ]
  },
  {
   "cell_type": "markdown",
   "metadata": {},
   "source": [
    "## Plotting Training & Validation MAE and Loss\n",
    "\n",
    "This section plots the training and validation MAE and loss values over epochs."
   ]
  },
  {
   "cell_type": "code",
   "execution_count": 11,
   "metadata": {},
   "outputs": [
    {
     "data": {
      "image/png": "[encoded data removed]",
      "text/plain": [
       "<Figure size 640x480 with 1 Axes>"
      ]
     },
     "metadata": {},
     "output_type": "display_data"
    },
    {
     "data": {
      "image/png": "[encoded data removed]",
      "text/plain": [
       "<Figure size 640x480 with 1 Axes>"
      ]
     },
     "metadata": {},
     "output_type": "display_data"
    }
   ],
   "source": [
    "# Plot training & validation MAE values\n",
    "plt.plot(history.history['mae'])\n",
    "plt.plot(history.history['val_mae'])\n",
    "plt.title('Model MAE')\n",
    "plt.ylabel('MAE')\n",
    "plt.xlabel('Epoch')\n",
    "plt.legend(['Train', 'Validation'], loc='upper left')\n",
    "plt.show()\n",
    "\n",
    "# Plot training & validation loss values\n",
    "plt.plot(history.history['loss'])\n",
    "plt.plot(history.history['val_loss'])\n",
    "plt.title('Model Loss')\n",
    "plt.ylabel('Loss')\n",
    "plt.xlabel('Epoch')\n",
    "plt.legend(['Train', 'Validation'], loc='upper left')\n",
    "plt.show()"
   ]
  },
  {
   "cell_type": "markdown",
   "metadata": {},
   "source": [
    "## Predicting Relevance Score\n",
    "\n",
    "This section predicts the relevance score for user input by feeding the normalized input features into the model and displaying the predicted value."
   ]
  },
  {
   "cell_type": "code",
   "execution_count": 12,
   "metadata": {},
   "outputs": [
    {
     "name": "stdout",
     "output_type": "stream",
     "text": [
      "\u001b[1m1/1\u001b[0m \u001b[32m━━━━━━━━━━━━━━━━━━━━\u001b[0m\u001b[37m\u001b[0m \u001b[1m0s\u001b[0m 106ms/step\n",
      "Predicted Relevance Score: 0.94805508852005\n"
     ]
    }
   ],
   "source": [
    "# Predict relevance for the user input\n",
    "prediksi_relevance = model.predict([X_services_input, X_locations_input, np.array([[input_rating_user_normalized]]), np.array([[input_pengalaman_normalized]]), np.array([[input_portofolio_normalized]])])\n",
    "\n",
    "# Display the predicted relevance score for the user input\n",
    "print(f\"Predicted Relevance Score: {prediksi_relevance[0][0]}\")\n"
   ]
  },
  {
   "cell_type": "markdown",
   "metadata": {},
   "source": [
    "## Predicting and Displaying Top 10 Recommended Vendors\n",
    "\n",
    "This part of the code predicts the relevance scores for all vendors in the dataset, ranks them based on the scores, and displays the top 10 recommended vendors along with their details.\n"
   ]
  },
  {
   "cell_type": "code",
   "execution_count": 13,
   "metadata": {},
   "outputs": [
    {
     "name": "stdout",
     "output_type": "stream",
     "text": [
      "\u001b[1m35/35\u001b[0m \u001b[32m━━━━━━━━━━━━━━━━━━━━\u001b[0m\u001b[37m\u001b[0m \u001b[1m0s\u001b[0m 4ms/step\n",
      "\n",
      "Top 10 Recommended Vendors:\n",
      "                                            name  predicted_relevance  \\\n",
      "697                        Nauffal  jaya mandiri             1.028980   \n",
      "359                           Winto Mandiri Jaya             1.026266   \n",
      "332                               Mitra solution             1.020000   \n",
      "101                            Hengki Kontraktor             1.018444   \n",
      "289  Sandi ( MEP )Electrical Mechanical plumbing             1.017442   \n",
      "30                  CV CAGAK SURYA MANDIRI (CSM)             1.017379   \n",
      "808                                Khanza teknik             1.017099   \n",
      "309                              EKO BENING JAYA             1.016697   \n",
      "231                                Abdi Building             1.014547   \n",
      "716                          Mitra Karya Pandawa             1.014532   \n",
      "\n",
      "                                             jangkauan  \\\n",
      "697  ['Jakarta Barat', 'Pemalang', 'Jakarta Timur',...   \n",
      "359  ['Jakarta Timur', 'Jakarta Pusat', 'Jakarta Se...   \n",
      "332                                       ['Surabaya']   \n",
      "101  ['Tangerang Kota', 'Tangerang Selatan', 'Tange...   \n",
      "289                                        ['Bandung']   \n",
      "30   ['Jakarta Timur', 'Jakarta Pusat', 'Jakarta Ba...   \n",
      "808  ['Tangerang Kota', 'Tangerang Selatan', 'Tange...   \n",
      "309  ['Jakarta Pusat', 'Tangerang Kota', 'Jakarta T...   \n",
      "231  ['Denpasar', 'Buleleng', 'Badung', 'Tabanan', ...   \n",
      "716                 ['Sidoarjo', 'Surabaya', 'Malang']   \n",
      "\n",
      "                                          layanan_lain  \n",
      "697  ['Kelistrikan', 'Renovasi Rumah', 'Pemasangan ...  \n",
      "359  ['Renovasi Rumah', 'Pemasangan Atap', 'Kusen P...  \n",
      "332  ['Kelistrikan', 'Renovasi Rumah', 'Kusen Pintu...  \n",
      "101  ['Pemasangan Atap', 'Kusen Pintu & Jendela', '...  \n",
      "289  ['Kelistrikan', 'Renovasi Rumah', 'Pemasangan ...  \n",
      "30   ['Kelistrikan', 'Renovasi Rumah', 'Pemasangan ...  \n",
      "808  ['Kelistrikan', 'Instalasi Kanopi', 'Service M...  \n",
      "309  ['Pemasangan Atap', 'Instalasi Kanopi', 'Water...  \n",
      "231  ['Jasa Pertukangan', 'Perbaikan Atap', 'Perbai...  \n",
      "716  ['Renovasi Rumah', 'Pemasangan Atap', 'Kusen P...  \n"
     ]
    }
   ],
   "source": [
    "# Predict relevance scores for all vendors in the dataset (based on services, locations, rating_user, pengalaman, and portofolio)\n",
    "dataset['predicted_relevance'] = model.predict([X_services, X_locations, X_rating_user, X_pengalaman, X_portofolio])\n",
    "\n",
    "# Get the top 10 recommended vendors based on relevance score\n",
    "top_vendors = dataset.nlargest(10, 'predicted_relevance')[['name', 'predicted_relevance', 'jangkauan', 'layanan_lain']]\n",
    "\n",
    "# Display the top 10 recommended vendors\n",
    "print(\"\\nTop 10 Recommended Vendors:\")\n",
    "print(top_vendors)"
   ]
  },
  {
   "cell_type": "markdown",
   "metadata": {},
   "source": [
    "### Saving the Model in h5 Format"
   ]
  },
  {
   "cell_type": "code",
   "execution_count": 17,
   "metadata": {},
   "outputs": [
    {
     "name": "stderr",
     "output_type": "stream",
     "text": [
      "WARNING:absl:You are saving your model as an HDF5 file via `model.save()` or `keras.saving.save_model(model)`. This file format is considered legacy. We recommend using instead the native Keras format, e.g. `model.save('my_model.keras')` or `keras.saving.save_model(model, 'my_model.keras')`. \n"
     ]
    }
   ],
   "source": [
    "# Save the model in H5 format\n",
    "model.save('ML_model.h5')"
   ]
  },
  {
   "cell_type": "markdown",
   "metadata": {},
   "source": [
    "### Saving the Model in tflite Format"
   ]
  },
  {
   "cell_type": "code",
   "execution_count": 18,
   "metadata": {},
   "outputs": [
    {
     "name": "stdout",
     "output_type": "stream",
     "text": [
      "INFO:tensorflow:Assets written to: C:\\Users\\LWNOVO\\AppData\\Local\\Temp\\tmpojttvzhp\\assets\n"
     ]
    },
    {
     "name": "stderr",
     "output_type": "stream",
     "text": [
      "INFO:tensorflow:Assets written to: C:\\Users\\LWNOVO\\AppData\\Local\\Temp\\tmpojttvzhp\\assets\n"
     ]
    },
    {
     "name": "stdout",
     "output_type": "stream",
     "text": [
      "Saved artifact at 'C:\\Users\\LWNOVO\\AppData\\Local\\Temp\\tmpojttvzhp'. The following endpoints are available:\n",
      "\n",
      "* Endpoint 'serve'\n",
      "  args_0 (POSITIONAL_ONLY): List[TensorSpec(shape=(None, 10), dtype=tf.float32, name='service_input'), TensorSpec(shape=(None, 10), dtype=tf.float32, name='location_input'), TensorSpec(shape=(None, 1), dtype=tf.float32, name='rating_user_input'), TensorSpec(shape=(None, 1), dtype=tf.float32, name='pengalaman_input'), TensorSpec(shape=(None, 1), dtype=tf.float32, name='portofolio_input')]\n",
      "Output Type:\n",
      "  TensorSpec(shape=(None, 1), dtype=tf.float32, name=None)\n",
      "Captures:\n",
      "  2029064553488: TensorSpec(shape=(), dtype=tf.resource, name=None)\n",
      "  2029064683152: TensorSpec(shape=(), dtype=tf.resource, name=None)\n",
      "  2029064555408: TensorSpec(shape=(), dtype=tf.resource, name=None)\n",
      "  2029064556368: TensorSpec(shape=(), dtype=tf.resource, name=None)\n",
      "  2029064553296: TensorSpec(shape=(), dtype=tf.resource, name=None)\n",
      "  2029064555984: TensorSpec(shape=(), dtype=tf.resource, name=None)\n",
      "  2029064556752: TensorSpec(shape=(), dtype=tf.resource, name=None)\n",
      "  2029064557520: TensorSpec(shape=(), dtype=tf.resource, name=None)\n"
     ]
    }
   ],
   "source": [
    "import tensorflow as tf\n",
    "\n",
    "# Convert the Keras model to TensorFlow Lite format\n",
    "converter = tf.lite.TFLiteConverter.from_keras_model(model)\n",
    "tflite_model = converter.convert()\n",
    "\n",
    "# Save the TFLite model to a file\n",
    "with open('ML_model.tflite', 'wb') as f:\n",
    "    f.write(tflite_model)"
   ]
  },
  {
   "cell_type": "code",
   "execution_count": null,
   "metadata": {},
   "outputs": [],
   "source": []
  }
 ],
 "metadata": {
  "kernelspec": {
   "display_name": "tfkernel",
   "language": "python",
   "name": "tfkernel"
  },
  "language_info": {
   "codemirror_mode": {
    "name": "ipython",
    "version": 3
   },
   "file_extension": ".py",
   "mimetype": "text/x-python",
   "name": "python",
   "nbconvert_exporter": "python",
   "pygments_lexer": "ipython3",
   "version": "3.11.4"
  }
 },
 "nbformat": 4,
 "nbformat_minor": 2
}
